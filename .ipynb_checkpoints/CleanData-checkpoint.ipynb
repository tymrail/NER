{
 "cells": [
  {
   "cell_type": "code",
   "execution_count": 11,
   "metadata": {},
   "outputs": [],
   "source": [
    "import os\n",
    "import json\n",
    "import torch\n",
    "from itertools import islice"
   ]
  },
  {
   "cell_type": "code",
   "execution_count": 5,
   "metadata": {},
   "outputs": [],
   "source": [
    "sentence_list = []\n",
    "tag_pos_list = []\n",
    "tag_syntactic_list = []\n",
    "tag_ner_list = []\n",
    "\n",
    "sentence = []\n",
    "tag_pos = []\n",
    "tag_syntactic = []\n",
    "tag_ner = []\n",
    "with open(\"data/CoNLL-2003/eng.train.openNLP\", \"r\") as datafile:\n",
    "    for row in islice(datafile, 2, None):\n",
    "        tokens = row.strip().split()\n",
    "        if not len(tokens):\n",
    "            sentence_list.append(sentence)\n",
    "            tag_pos_list.append(tag_pos)\n",
    "            tag_syntactic_list.append(tag_syntactic)\n",
    "            tag_ner_list.append(tag_ner)\n",
    "            sentence = []\n",
    "            tag_pos = []\n",
    "            tag_syntactic = []\n",
    "            tag_ner = []\n",
    "            continue\n",
    "        sentence.append(tokens[0])\n",
    "        tag_pos.append(tokens[1])\n",
    "        tag_syntactic.append(tokens[2])\n",
    "        tag_ner.append(tokens[3])\n",
    "\n",
    "data_prepare = {\n",
    "    \"sentence_list\": sentence_list,\n",
    "    \"tag_pos_list\": tag_pos_list,\n",
    "    \"tag_syntactic_list\": tag_syntactic_list,\n",
    "    \"tag_ner_list\": tag_ner_list,\n",
    "}\n",
    "       "
   ]
  },
  {
   "cell_type": "code",
   "execution_count": 36,
   "metadata": {},
   "outputs": [],
   "source": [
    "def data_prepare(path, file_name, json_name):\n",
    "    sentence_list = []\n",
    "    tag_pos_list = []\n",
    "    tag_syntactic_list = []\n",
    "    tag_ner_list = []\n",
    "\n",
    "    sentence = []\n",
    "    tag_pos = []\n",
    "    tag_syntactic = []\n",
    "    tag_ner = []\n",
    "    \n",
    "    data_prepare = []\n",
    "    \n",
    "    tag_ner_set = set({})\n",
    "    tag_syntactic_set = set({})\n",
    "    tag_pos_set = set({})\n",
    "    with open(os.path.join(path, file_name), \"r\") as datafile:\n",
    "        for row in islice(datafile, 2, None):\n",
    "            tokens = row.strip().split()\n",
    "            if not len(tokens):\n",
    "                data_dict = {\n",
    "                    \"sentence\": sentence,\n",
    "                    \"tag_pos\": tag_pos,\n",
    "                    \"tag_syntactic\": tag_syntactic,\n",
    "                    \"tag_ner\": tag_ner,\n",
    "                }\n",
    "                data_prepare.append(data_dict)\n",
    "                sentence = []\n",
    "                tag_pos = []\n",
    "                tag_syntactic = []\n",
    "                tag_ner = []\n",
    "                continue\n",
    "            sentence.append(tokens[0])\n",
    "            tag_pos.append(tokens[1])\n",
    "            tag_syntactic.append(tokens[2])\n",
    "            tag_ner.append(tokens[3])\n",
    "            tag_pos_set.add(tokens[1])\n",
    "            tag_syntactic_set.add(tokens[2])\n",
    "            tag_ner_set.add(tokens[3])\n",
    "            \n",
    "    \n",
    "    with open(os.path.join(path, json_name) + \".json\", 'w') as json_file:\n",
    "        json_file.write(json.dumps(data_prepare, indent=2))\n",
    "    with open(os.path.join(path, json_name) + \"_tag_pos.json\", \"w\") as pos_file:\n",
    "        pos_file.write(json.dumps(list(tag_pos_set)))\n",
    "    with open(os.path.join(path, json_name) + \"_tag_syntactic.json\", \"w\") as syntactic_file:\n",
    "        syntactic_file.write(json.dumps(list(tag_syntactic_set)))\n",
    "    with open(os.path.join(path, json_name) + \"_tag_ner.json\", \"w\") as ner_file:\n",
    "        ner_file.write(json.dumps(list(tag_ner_set)))\n",
    "        "
   ]
  },
  {
   "cell_type": "code",
   "execution_count": 37,
   "metadata": {},
   "outputs": [
    {
     "ename": "TypeError",
     "evalue": "descriptor 'add' requires a 'set' object but received a 'str'",
     "output_type": "error",
     "traceback": [
      "\u001b[1;31m---------------------------------------------------------------------------\u001b[0m",
      "\u001b[1;31mTypeError\u001b[0m                                 Traceback (most recent call last)",
      "\u001b[1;32m<ipython-input-37-54ce695af448>\u001b[0m in \u001b[0;36m<module>\u001b[1;34m()\u001b[0m\n\u001b[1;32m----> 1\u001b[1;33m \u001b[0mdata_prepare\u001b[0m\u001b[1;33m(\u001b[0m\u001b[1;34m\"data/CoNLL-2003\"\u001b[0m\u001b[1;33m,\u001b[0m \u001b[1;34m\"eng.train.openNLP\"\u001b[0m\u001b[1;33m,\u001b[0m \u001b[1;34m\"train\"\u001b[0m\u001b[1;33m)\u001b[0m\u001b[1;33m\u001b[0m\u001b[0m\n\u001b[0m\u001b[0;32m      2\u001b[0m \u001b[0mdata_prepare\u001b[0m\u001b[1;33m(\u001b[0m\u001b[1;34m\"data/CoNLL-2003\"\u001b[0m\u001b[1;33m,\u001b[0m \u001b[1;34m\"eng.testa.openNLP\"\u001b[0m\u001b[1;33m,\u001b[0m \u001b[1;34m\"testa\"\u001b[0m\u001b[1;33m)\u001b[0m\u001b[1;33m\u001b[0m\u001b[0m\n\u001b[0;32m      3\u001b[0m \u001b[0mdata_prepare\u001b[0m\u001b[1;33m(\u001b[0m\u001b[1;34m\"data/CoNLL-2003\"\u001b[0m\u001b[1;33m,\u001b[0m \u001b[1;34m\"eng.testb.openNLP\"\u001b[0m\u001b[1;33m,\u001b[0m \u001b[1;34m\"testb\"\u001b[0m\u001b[1;33m)\u001b[0m\u001b[1;33m\u001b[0m\u001b[0m\n",
      "\u001b[1;32m<ipython-input-36-d50d6005296d>\u001b[0m in \u001b[0;36mdata_prepare\u001b[1;34m(path, file_name, json_name)\u001b[0m\n\u001b[0;32m     35\u001b[0m             \u001b[0mtag_syntactic\u001b[0m\u001b[1;33m.\u001b[0m\u001b[0mappend\u001b[0m\u001b[1;33m(\u001b[0m\u001b[0mtokens\u001b[0m\u001b[1;33m[\u001b[0m\u001b[1;36m2\u001b[0m\u001b[1;33m]\u001b[0m\u001b[1;33m)\u001b[0m\u001b[1;33m\u001b[0m\u001b[0m\n\u001b[0;32m     36\u001b[0m             \u001b[0mtag_ner\u001b[0m\u001b[1;33m.\u001b[0m\u001b[0mappend\u001b[0m\u001b[1;33m(\u001b[0m\u001b[0mtokens\u001b[0m\u001b[1;33m[\u001b[0m\u001b[1;36m3\u001b[0m\u001b[1;33m]\u001b[0m\u001b[1;33m)\u001b[0m\u001b[1;33m\u001b[0m\u001b[0m\n\u001b[1;32m---> 37\u001b[1;33m             \u001b[0mtag_pos_set\u001b[0m\u001b[1;33m.\u001b[0m\u001b[0madd\u001b[0m\u001b[1;33m(\u001b[0m\u001b[0mtokens\u001b[0m\u001b[1;33m[\u001b[0m\u001b[1;36m1\u001b[0m\u001b[1;33m]\u001b[0m\u001b[1;33m)\u001b[0m\u001b[1;33m\u001b[0m\u001b[0m\n\u001b[0m\u001b[0;32m     38\u001b[0m             \u001b[0mtag_syntactic_set\u001b[0m\u001b[1;33m.\u001b[0m\u001b[0madd\u001b[0m\u001b[1;33m(\u001b[0m\u001b[0mtokens\u001b[0m\u001b[1;33m[\u001b[0m\u001b[1;36m2\u001b[0m\u001b[1;33m]\u001b[0m\u001b[1;33m)\u001b[0m\u001b[1;33m\u001b[0m\u001b[0m\n\u001b[0;32m     39\u001b[0m             \u001b[0mtag_ner_set\u001b[0m\u001b[1;33m.\u001b[0m\u001b[0madd\u001b[0m\u001b[1;33m(\u001b[0m\u001b[0mtokens\u001b[0m\u001b[1;33m[\u001b[0m\u001b[1;36m3\u001b[0m\u001b[1;33m]\u001b[0m\u001b[1;33m)\u001b[0m\u001b[1;33m\u001b[0m\u001b[0m\n",
      "\u001b[1;31mTypeError\u001b[0m: descriptor 'add' requires a 'set' object but received a 'str'"
     ]
    }
   ],
   "source": [
    "data_prepare(\"data/CoNLL-2003\", \"eng.train.openNLP\", \"train\")\n",
    "data_prepare(\"data/CoNLL-2003\", \"eng.testa.openNLP\", \"testa\")\n",
    "data_prepare(\"data/CoNLL-2003\", \"eng.testb.openNLP\", \"testb\")"
   ]
  },
  {
   "cell_type": "code",
   "execution_count": null,
   "metadata": {},
   "outputs": [],
   "source": []
  }
 ],
 "metadata": {
  "kernelspec": {
   "display_name": "Python 3",
   "language": "python",
   "name": "python3"
  },
  "language_info": {
   "codemirror_mode": {
    "name": "ipython",
    "version": 3
   },
   "file_extension": ".py",
   "mimetype": "text/x-python",
   "name": "python",
   "nbconvert_exporter": "python",
   "pygments_lexer": "ipython3",
   "version": "3.6.4"
  }
 },
 "nbformat": 4,
 "nbformat_minor": 2
}
